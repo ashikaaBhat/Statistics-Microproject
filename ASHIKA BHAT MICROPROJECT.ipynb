{
 "cells": [
  {
   "cell_type": "code",
   "execution_count": 60,
   "id": "7f8cbfc7",
   "metadata": {},
   "outputs": [
    {
     "name": "stdout",
     "output_type": "stream",
     "text": [
      "Defaulting to user installation because normal site-packages is not writeable\n",
      "Requirement already satisfied: scipy in c:\\programdata\\anaconda3\\lib\\site-packages (1.10.0)\n",
      "Requirement already satisfied: numpy<1.27.0,>=1.19.5 in c:\\programdata\\anaconda3\\lib\\site-packages (from scipy) (1.23.5)\n"
     ]
    }
   ],
   "source": [
    "import os\n",
    "os.getcwd()\n",
    "!pip install scipy\n",
    "\n",
    "from scipy.stats import f_oneway\n",
    "from scipy.stats import ttest_ind"
   ]
  },
  {
   "cell_type": "code",
   "execution_count": 44,
   "id": "6ed16da3",
   "metadata": {},
   "outputs": [
    {
     "data": {
      "application/javascript": [
       "\n",
       "        if (window._pyforest_update_imports_cell) { window._pyforest_update_imports_cell('import pandas as pd'); }\n",
       "    "
      ],
      "text/plain": [
       "<IPython.core.display.Javascript object>"
      ]
     },
     "metadata": {},
     "output_type": "display_data"
    }
   ],
   "source": [
    "df = pd.read_csv(\"cars_dataset.csv\",encoding='latin1')"
   ]
  },
  {
   "cell_type": "code",
   "execution_count": 45,
   "id": "fbb37c3b",
   "metadata": {},
   "outputs": [
    {
     "data": {
      "text/html": [
       "<div>\n",
       "<style scoped>\n",
       "    .dataframe tbody tr th:only-of-type {\n",
       "        vertical-align: middle;\n",
       "    }\n",
       "\n",
       "    .dataframe tbody tr th {\n",
       "        vertical-align: top;\n",
       "    }\n",
       "\n",
       "    .dataframe thead th {\n",
       "        text-align: right;\n",
       "    }\n",
       "</style>\n",
       "<table border=\"1\" class=\"dataframe\">\n",
       "  <thead>\n",
       "    <tr style=\"text-align: right;\">\n",
       "      <th></th>\n",
       "      <th>Sales_ID</th>\n",
       "      <th>name</th>\n",
       "      <th>year</th>\n",
       "      <th>selling_price</th>\n",
       "      <th>km_driven</th>\n",
       "      <th>fuel</th>\n",
       "      <th>seller_type</th>\n",
       "      <th>transmission</th>\n",
       "      <th>owner</th>\n",
       "      <th>mileage</th>\n",
       "      <th>engine</th>\n",
       "      <th>max_power</th>\n",
       "      <th>seats</th>\n",
       "      <th>City</th>\n",
       "      <th>Postal_code</th>\n",
       "      <th>Sales_status</th>\n",
       "    </tr>\n",
       "  </thead>\n",
       "  <tbody>\n",
       "    <tr>\n",
       "      <th>0</th>\n",
       "      <td>1</td>\n",
       "      <td>Maruti Swift Dzire VDI</td>\n",
       "      <td>2014</td>\n",
       "      <td>450000</td>\n",
       "      <td>145500</td>\n",
       "      <td>Diesel</td>\n",
       "      <td>Individual</td>\n",
       "      <td>Manual</td>\n",
       "      <td>First Owner</td>\n",
       "      <td>23.4 kmpl</td>\n",
       "      <td>1248 CC</td>\n",
       "      <td>74 bhp</td>\n",
       "      <td>5</td>\n",
       "      <td>Mumbai</td>\n",
       "      <td>400001</td>\n",
       "      <td>Y</td>\n",
       "    </tr>\n",
       "    <tr>\n",
       "      <th>1</th>\n",
       "      <td>2</td>\n",
       "      <td>Skoda Rapid 1.5 TDI Ambition</td>\n",
       "      <td>2014</td>\n",
       "      <td>370000</td>\n",
       "      <td>120000</td>\n",
       "      <td>Diesel</td>\n",
       "      <td>Individual</td>\n",
       "      <td>Manual</td>\n",
       "      <td>Second Owner</td>\n",
       "      <td>21.14 kmpl</td>\n",
       "      <td>1498 CC</td>\n",
       "      <td>103.52 bhp</td>\n",
       "      <td>5</td>\n",
       "      <td>Ranchi</td>\n",
       "      <td>834008</td>\n",
       "      <td>Y</td>\n",
       "    </tr>\n",
       "    <tr>\n",
       "      <th>2</th>\n",
       "      <td>3</td>\n",
       "      <td>Honda City 2017-2020 EXi</td>\n",
       "      <td>2006</td>\n",
       "      <td>158000</td>\n",
       "      <td>140000</td>\n",
       "      <td>Petrol</td>\n",
       "      <td>Individual</td>\n",
       "      <td>Manual</td>\n",
       "      <td>Third Owner</td>\n",
       "      <td>17.7 kmpl</td>\n",
       "      <td>1497 CC</td>\n",
       "      <td>78 bhp</td>\n",
       "      <td>5</td>\n",
       "      <td>Noida</td>\n",
       "      <td>201301</td>\n",
       "      <td>Y</td>\n",
       "    </tr>\n",
       "    <tr>\n",
       "      <th>3</th>\n",
       "      <td>4</td>\n",
       "      <td>Hyundai i20 Sportz Diesel</td>\n",
       "      <td>2010</td>\n",
       "      <td>225000</td>\n",
       "      <td>127000</td>\n",
       "      <td>Diesel</td>\n",
       "      <td>Individual</td>\n",
       "      <td>Manual</td>\n",
       "      <td>First Owner</td>\n",
       "      <td>23.0 kmpl</td>\n",
       "      <td>1396 CC</td>\n",
       "      <td>90 bhp</td>\n",
       "      <td>5</td>\n",
       "      <td>Dehradun</td>\n",
       "      <td>248141</td>\n",
       "      <td>Y</td>\n",
       "    </tr>\n",
       "    <tr>\n",
       "      <th>4</th>\n",
       "      <td>5</td>\n",
       "      <td>Maruti Swift VXI BSIII</td>\n",
       "      <td>2007</td>\n",
       "      <td>130000</td>\n",
       "      <td>120000</td>\n",
       "      <td>Petrol</td>\n",
       "      <td>Individual</td>\n",
       "      <td>Manual</td>\n",
       "      <td>First Owner</td>\n",
       "      <td>16.1 kmpl</td>\n",
       "      <td>1298 CC</td>\n",
       "      <td>88.2 bhp</td>\n",
       "      <td>5</td>\n",
       "      <td>Chennai</td>\n",
       "      <td>600020</td>\n",
       "      <td>Y</td>\n",
       "    </tr>\n",
       "  </tbody>\n",
       "</table>\n",
       "</div>"
      ],
      "text/plain": [
       "   Sales_ID                          name  year  selling_price  km_driven  \\\n",
       "0         1        Maruti Swift Dzire VDI  2014         450000     145500   \n",
       "1         2  Skoda Rapid 1.5 TDI Ambition  2014         370000     120000   \n",
       "2         3      Honda City 2017-2020 EXi  2006         158000     140000   \n",
       "3         4     Hyundai i20 Sportz Diesel  2010         225000     127000   \n",
       "4         5        Maruti Swift VXI BSIII  2007         130000     120000   \n",
       "\n",
       "     fuel seller_type transmission         owner     mileage   engine  \\\n",
       "0  Diesel  Individual       Manual   First Owner   23.4 kmpl  1248 CC   \n",
       "1  Diesel  Individual       Manual  Second Owner  21.14 kmpl  1498 CC   \n",
       "2  Petrol  Individual       Manual   Third Owner   17.7 kmpl  1497 CC   \n",
       "3  Diesel  Individual       Manual   First Owner   23.0 kmpl  1396 CC   \n",
       "4  Petrol  Individual       Manual   First Owner   16.1 kmpl  1298 CC   \n",
       "\n",
       "    max_power  seats      City  Postal_code Sales_status  \n",
       "0      74 bhp      5    Mumbai       400001            Y  \n",
       "1  103.52 bhp      5    Ranchi       834008            Y  \n",
       "2      78 bhp      5     Noida       201301            Y  \n",
       "3      90 bhp      5  Dehradun       248141            Y  \n",
       "4    88.2 bhp      5   Chennai       600020            Y  "
      ]
     },
     "execution_count": 45,
     "metadata": {},
     "output_type": "execute_result"
    }
   ],
   "source": [
    "df.head()"
   ]
  },
  {
   "cell_type": "code",
   "execution_count": 46,
   "id": "96c1263b",
   "metadata": {},
   "outputs": [
    {
     "data": {
      "text/plain": [
       "(7906, 16)"
      ]
     },
     "execution_count": 46,
     "metadata": {},
     "output_type": "execute_result"
    }
   ],
   "source": [
    "df.shape"
   ]
  },
  {
   "cell_type": "code",
   "execution_count": 47,
   "id": "3f1d03df",
   "metadata": {},
   "outputs": [
    {
     "name": "stdout",
     "output_type": "stream",
     "text": [
      "<class 'pandas.core.frame.DataFrame'>\n",
      "RangeIndex: 7906 entries, 0 to 7905\n",
      "Data columns (total 16 columns):\n",
      " #   Column         Non-Null Count  Dtype \n",
      "---  ------         --------------  ----- \n",
      " 0   Sales_ID       7906 non-null   int64 \n",
      " 1   name           7906 non-null   object\n",
      " 2   year           7906 non-null   int64 \n",
      " 3   selling_price  7906 non-null   int64 \n",
      " 4   km_driven      7906 non-null   int64 \n",
      " 5   fuel           7906 non-null   object\n",
      " 6   seller_type    7906 non-null   object\n",
      " 7   transmission   7906 non-null   object\n",
      " 8   owner          7906 non-null   object\n",
      " 9   mileage        7906 non-null   object\n",
      " 10  engine         7906 non-null   object\n",
      " 11  max_power      7906 non-null   object\n",
      " 12  seats          7906 non-null   int64 \n",
      " 13  City           7906 non-null   object\n",
      " 14  Postal_code    7906 non-null   int64 \n",
      " 15  Sales_status   7906 non-null   object\n",
      "dtypes: int64(6), object(10)\n",
      "memory usage: 988.4+ KB\n"
     ]
    }
   ],
   "source": [
    "df.info()"
   ]
  },
  {
   "cell_type": "code",
   "execution_count": 48,
   "id": "a4cc6d5b",
   "metadata": {},
   "outputs": [
    {
     "data": {
      "text/plain": [
       "Sales_ID         0\n",
       "name             0\n",
       "year             0\n",
       "selling_price    0\n",
       "km_driven        0\n",
       "fuel             0\n",
       "seller_type      0\n",
       "transmission     0\n",
       "owner            0\n",
       "mileage          0\n",
       "engine           0\n",
       "max_power        0\n",
       "seats            0\n",
       "City             0\n",
       "Postal_code      0\n",
       "Sales_status     0\n",
       "dtype: int64"
      ]
     },
     "execution_count": 48,
     "metadata": {},
     "output_type": "execute_result"
    }
   ],
   "source": [
    "df.isnull().sum()"
   ]
  },
  {
   "cell_type": "code",
   "execution_count": 49,
   "id": "c8655647",
   "metadata": {},
   "outputs": [
    {
     "data": {
      "text/html": [
       "<div>\n",
       "<style scoped>\n",
       "    .dataframe tbody tr th:only-of-type {\n",
       "        vertical-align: middle;\n",
       "    }\n",
       "\n",
       "    .dataframe tbody tr th {\n",
       "        vertical-align: top;\n",
       "    }\n",
       "\n",
       "    .dataframe thead th {\n",
       "        text-align: right;\n",
       "    }\n",
       "</style>\n",
       "<table border=\"1\" class=\"dataframe\">\n",
       "  <thead>\n",
       "    <tr style=\"text-align: right;\">\n",
       "      <th></th>\n",
       "      <th>Sales_ID</th>\n",
       "      <th>year</th>\n",
       "      <th>selling_price</th>\n",
       "      <th>km_driven</th>\n",
       "      <th>seats</th>\n",
       "      <th>Postal_code</th>\n",
       "    </tr>\n",
       "  </thead>\n",
       "  <tbody>\n",
       "    <tr>\n",
       "      <th>count</th>\n",
       "      <td>7906.000000</td>\n",
       "      <td>7906.000000</td>\n",
       "      <td>7.906000e+03</td>\n",
       "      <td>7.906000e+03</td>\n",
       "      <td>7906.000000</td>\n",
       "      <td>7906.000000</td>\n",
       "    </tr>\n",
       "    <tr>\n",
       "      <th>mean</th>\n",
       "      <td>4070.106248</td>\n",
       "      <td>2013.983936</td>\n",
       "      <td>6.498137e+05</td>\n",
       "      <td>6.918866e+04</td>\n",
       "      <td>5.416393</td>\n",
       "      <td>503806.024285</td>\n",
       "    </tr>\n",
       "    <tr>\n",
       "      <th>std</th>\n",
       "      <td>2345.770159</td>\n",
       "      <td>3.863695</td>\n",
       "      <td>8.135827e+05</td>\n",
       "      <td>5.679230e+04</td>\n",
       "      <td>0.959208</td>\n",
       "      <td>205061.544757</td>\n",
       "    </tr>\n",
       "    <tr>\n",
       "      <th>min</th>\n",
       "      <td>1.000000</td>\n",
       "      <td>1994.000000</td>\n",
       "      <td>2.999900e+04</td>\n",
       "      <td>1.000000e+00</td>\n",
       "      <td>2.000000</td>\n",
       "      <td>110039.000000</td>\n",
       "    </tr>\n",
       "    <tr>\n",
       "      <th>25%</th>\n",
       "      <td>2037.250000</td>\n",
       "      <td>2012.000000</td>\n",
       "      <td>2.700000e+05</td>\n",
       "      <td>3.500000e+04</td>\n",
       "      <td>5.000000</td>\n",
       "      <td>391510.000000</td>\n",
       "    </tr>\n",
       "    <tr>\n",
       "      <th>50%</th>\n",
       "      <td>4076.500000</td>\n",
       "      <td>2015.000000</td>\n",
       "      <td>4.500000e+05</td>\n",
       "      <td>6.000000e+04</td>\n",
       "      <td>5.000000</td>\n",
       "      <td>524225.000000</td>\n",
       "    </tr>\n",
       "    <tr>\n",
       "      <th>75%</th>\n",
       "      <td>6102.000000</td>\n",
       "      <td>2017.000000</td>\n",
       "      <td>6.900000e+05</td>\n",
       "      <td>9.542500e+04</td>\n",
       "      <td>5.000000</td>\n",
       "      <td>680503.000000</td>\n",
       "    </tr>\n",
       "    <tr>\n",
       "      <th>max</th>\n",
       "      <td>8128.000000</td>\n",
       "      <td>2020.000000</td>\n",
       "      <td>1.000000e+07</td>\n",
       "      <td>2.360457e+06</td>\n",
       "      <td>14.000000</td>\n",
       "      <td>834008.000000</td>\n",
       "    </tr>\n",
       "  </tbody>\n",
       "</table>\n",
       "</div>"
      ],
      "text/plain": [
       "          Sales_ID         year  selling_price     km_driven        seats  \\\n",
       "count  7906.000000  7906.000000   7.906000e+03  7.906000e+03  7906.000000   \n",
       "mean   4070.106248  2013.983936   6.498137e+05  6.918866e+04     5.416393   \n",
       "std    2345.770159     3.863695   8.135827e+05  5.679230e+04     0.959208   \n",
       "min       1.000000  1994.000000   2.999900e+04  1.000000e+00     2.000000   \n",
       "25%    2037.250000  2012.000000   2.700000e+05  3.500000e+04     5.000000   \n",
       "50%    4076.500000  2015.000000   4.500000e+05  6.000000e+04     5.000000   \n",
       "75%    6102.000000  2017.000000   6.900000e+05  9.542500e+04     5.000000   \n",
       "max    8128.000000  2020.000000   1.000000e+07  2.360457e+06    14.000000   \n",
       "\n",
       "         Postal_code  \n",
       "count    7906.000000  \n",
       "mean   503806.024285  \n",
       "std    205061.544757  \n",
       "min    110039.000000  \n",
       "25%    391510.000000  \n",
       "50%    524225.000000  \n",
       "75%    680503.000000  \n",
       "max    834008.000000  "
      ]
     },
     "execution_count": 49,
     "metadata": {},
     "output_type": "execute_result"
    }
   ],
   "source": [
    "df.describe()"
   ]
  },
  {
   "cell_type": "code",
   "execution_count": 50,
   "id": "5441b338",
   "metadata": {},
   "outputs": [
    {
     "data": {
      "text/html": [
       "<div>\n",
       "<style scoped>\n",
       "    .dataframe tbody tr th:only-of-type {\n",
       "        vertical-align: middle;\n",
       "    }\n",
       "\n",
       "    .dataframe tbody tr th {\n",
       "        vertical-align: top;\n",
       "    }\n",
       "\n",
       "    .dataframe thead th {\n",
       "        text-align: right;\n",
       "    }\n",
       "</style>\n",
       "<table border=\"1\" class=\"dataframe\">\n",
       "  <thead>\n",
       "    <tr style=\"text-align: right;\">\n",
       "      <th></th>\n",
       "      <th>name</th>\n",
       "      <th>fuel</th>\n",
       "      <th>seller_type</th>\n",
       "      <th>transmission</th>\n",
       "      <th>owner</th>\n",
       "      <th>mileage</th>\n",
       "      <th>engine</th>\n",
       "      <th>max_power</th>\n",
       "      <th>City</th>\n",
       "      <th>Sales_status</th>\n",
       "    </tr>\n",
       "  </thead>\n",
       "  <tbody>\n",
       "    <tr>\n",
       "      <th>count</th>\n",
       "      <td>7906</td>\n",
       "      <td>7906</td>\n",
       "      <td>7906</td>\n",
       "      <td>7906</td>\n",
       "      <td>7906</td>\n",
       "      <td>7906</td>\n",
       "      <td>7906</td>\n",
       "      <td>7906</td>\n",
       "      <td>7906</td>\n",
       "      <td>7906</td>\n",
       "    </tr>\n",
       "    <tr>\n",
       "      <th>unique</th>\n",
       "      <td>1982</td>\n",
       "      <td>4</td>\n",
       "      <td>3</td>\n",
       "      <td>2</td>\n",
       "      <td>5</td>\n",
       "      <td>393</td>\n",
       "      <td>121</td>\n",
       "      <td>320</td>\n",
       "      <td>29</td>\n",
       "      <td>2</td>\n",
       "    </tr>\n",
       "    <tr>\n",
       "      <th>top</th>\n",
       "      <td>Maruti Swift Dzire VDI</td>\n",
       "      <td>Diesel</td>\n",
       "      <td>Individual</td>\n",
       "      <td>Manual</td>\n",
       "      <td>First Owner</td>\n",
       "      <td>18.9 kmpl</td>\n",
       "      <td>1248 CC</td>\n",
       "      <td>74 bhp</td>\n",
       "      <td>Delhi</td>\n",
       "      <td>N</td>\n",
       "    </tr>\n",
       "    <tr>\n",
       "      <th>freq</th>\n",
       "      <td>129</td>\n",
       "      <td>4299</td>\n",
       "      <td>6563</td>\n",
       "      <td>6865</td>\n",
       "      <td>5215</td>\n",
       "      <td>225</td>\n",
       "      <td>1017</td>\n",
       "      <td>377</td>\n",
       "      <td>320</td>\n",
       "      <td>5906</td>\n",
       "    </tr>\n",
       "  </tbody>\n",
       "</table>\n",
       "</div>"
      ],
      "text/plain": [
       "                          name    fuel seller_type transmission        owner  \\\n",
       "count                     7906    7906        7906         7906         7906   \n",
       "unique                    1982       4           3            2            5   \n",
       "top     Maruti Swift Dzire VDI  Diesel  Individual       Manual  First Owner   \n",
       "freq                       129    4299        6563         6865         5215   \n",
       "\n",
       "          mileage   engine max_power   City Sales_status  \n",
       "count        7906     7906      7906   7906         7906  \n",
       "unique        393      121       320     29            2  \n",
       "top     18.9 kmpl  1248 CC    74 bhp  Delhi            N  \n",
       "freq          225     1017       377    320         5906  "
      ]
     },
     "execution_count": 50,
     "metadata": {},
     "output_type": "execute_result"
    }
   ],
   "source": [
    "df.describe(include='object')"
   ]
  },
  {
   "cell_type": "markdown",
   "id": "d2154b77",
   "metadata": {},
   "source": [
    "## Q(1)  a) What are the characteristics of the cars listed in the used car dataset? Specifically, what is the average mileage and selling price of the cars? What is the range of prices? What is the interquartile range of prices? What is the most common fuel type and transmission type? Additionally, can we observe a significant difference in the mean selling price for cars sold by individual sellers compared to those sold by dealers in the used car dataset? b) Given that car has a selling price of over dollar 10,000, what is the probability that it has an automatic transmission? "
   ]
  },
  {
   "cell_type": "code",
   "execution_count": 51,
   "id": "5ab5b228",
   "metadata": {},
   "outputs": [],
   "source": [
    "df['mileage'] = df['mileage'].str.replace(r'\\b(kmpl|km/kg)\\b', '', regex=True).astype(float)\n",
    "\n",
    "# rest of the analysis\n",
    "average_mileage = df['mileage'].mean()\n",
    "average_price = df['selling_price'].mean()\n",
    "price_range = df['selling_price'].max() - df['selling_price'].min()\n",
    "price_interquartile_range = df['selling_price'].quantile(0.75) - df['selling_price'].quantile(0.25)\n",
    "most_common_fuel_type = df['fuel'].mode()[0]\n",
    "most_common_transmission_type = df['transmission'].mode()[0]\n",
    "\n",
    "\n"
   ]
  },
  {
   "cell_type": "code",
   "execution_count": 62,
   "id": "aaf04143",
   "metadata": {},
   "outputs": [
    {
     "name": "stdout",
     "output_type": "stream",
     "text": [
      "Characteristics of the cars:\n",
      "Average Mileage: 19.4198608651657\n",
      "Average Selling Price: 649813.720844928\n",
      "Price Range: 9970001\n",
      "Interquartile Range of Prices: 420000.0\n",
      "Most Common Fuel Type: Diesel\n",
      "Most Common Transmission Type: Manual\n",
      "\n",
      "Difference in Mean Selling Price for Individual Sellers vs Dealers: -952203.803363302\n",
      "\n",
      "Probability of having an automatic transmission given selling price > $10,000: 0.13167214773589678\n"
     ]
    }
   ],
   "source": [
    "\n",
    "# Difference in mean selling price for individual sellers vs dealers\n",
    "mean_price_individual_seller = df[df['seller_type'] == 'Individual']['selling_price'].mean()\n",
    "mean_price_dealer = df[df['seller_type'] == 'Dealer']['selling_price'].mean()\n",
    "price_difference = mean_price_individual_seller - mean_price_dealer\n",
    "\n",
    "# Probability of having an automatic transmission given selling price > $10,000\n",
    "cars_over_10k = df[df['selling_price'] > 10000]\n",
    "probability_automatic_transmission = cars_over_10k[cars_over_10k['transmission'] == 'Automatic'].shape[0] / cars_over_10k.shape[0]\n",
    "\n",
    "# Displaying the results\n",
    "print(\"Characteristics of the cars:\")\n",
    "print(\"Average Mileage:\", average_mileage)\n",
    "print(\"Average Selling Price:\", average_price)\n",
    "print(\"Price Range:\", price_range)\n",
    "print(\"Interquartile Range of Prices:\", price_interquartile_range)\n",
    "print(\"Most Common Fuel Type:\", most_common_fuel_type)\n",
    "print(\"Most Common Transmission Type:\", most_common_transmission_type)\n",
    "print(\"\\nDifference in Mean Selling Price for Individual Sellers vs Dealers:\", price_difference)\n",
    "\n",
    "\n",
    "#b)\n",
    "print(\"\\nProbability of having an automatic transmission given selling price > $10,000:\", probability_automatic_transmission)"
   ]
  },
  {
   "cell_type": "markdown",
   "id": "5c15f830",
   "metadata": {},
   "source": [
    "## Q(2) a) In the context of analyzing the used car market, can we determine if there is a significant difference in prices of cars based on the fuel type they use? This information can help buyers make informed decisions when purchasing a used car and may also inform government policies aimed at promoting the use of certain types of fuel in vehicles. (frame hypothesis and draw inferences)"
   ]
  },
  {
   "cell_type": "code",
   "execution_count": 57,
   "id": "d1f1e178",
   "metadata": {},
   "outputs": [
    {
     "name": "stdout",
     "output_type": "stream",
     "text": [
      "Reject the null hypothesis. There is a significant difference in prices based on fuel type.\n"
     ]
    }
   ],
   "source": [
    "\n",
    "\n",
    "# Perform ANOVA test\n",
    "anova_results = f_oneway(df[df['fuel'] == 'Petrol']['selling_price'],\n",
    "                         df[df['fuel'] == 'Diesel']['selling_price'],\n",
    "                         df[df['fuel'] == 'CNG']['selling_price'])\n",
    "\n",
    "# Extract p-value\n",
    "p_value = anova_results.pvalue\n",
    "\n",
    "# Define significance level\n",
    "alpha = 0.05\n",
    "\n",
    "# Interpret the results\n",
    "if p_value < alpha:\n",
    "    print(\"Reject the null hypothesis. There is a significant difference in prices based on fuel type.\")\n",
    "else:\n",
    "    print(\"Fail to reject the null hypothesis. There is no significant difference in prices based on fuel type.\")"
   ]
  },
  {
   "cell_type": "markdown",
   "id": "50f7c115",
   "metadata": {},
   "source": [
    "Inference: This finding indicates that the type of fuel used in cars influences their selling prices in the used car market. Potential factors contributing to this difference could include variations in fuel efficiency, availability, environmental considerations, and consumer preferences. Understanding these price differences can assist buyers in making informed decisions when purchasing a used car and inform government policies aimed at promoting specific types of fuel in vehicles. Additionally, this information can be valuable for car dealerships in setting pricing strategies and managing inventory effectively."
   ]
  },
  {
   "cell_type": "markdown",
   "id": "f59c04c2",
   "metadata": {},
   "source": [
    "## Q(3) a) In the used car dataset, there are some mileage values that are represented in units other than miles, such as kilometers. Convert these values into miles and check the mileage distribution. (Note: Convert mileage in kilometers to miles by multiplying by 0.621371.) "
   ]
  },
  {
   "cell_type": "code",
   "execution_count": 59,
   "id": "3dd93af4",
   "metadata": {},
   "outputs": [
    {
     "name": "stdout",
     "output_type": "stream",
     "text": [
      "Mileage Distribution:\n",
      "count    7906.000000\n",
      "mean       19.419861\n",
      "std         4.036263\n",
      "min         0.000000\n",
      "25%        16.780000\n",
      "50%        19.300000\n",
      "75%        22.320000\n",
      "max        42.000000\n",
      "Name: mileage, dtype: float64\n"
     ]
    }
   ],
   "source": [
    "#a)\n",
    "#convert\n",
    "df['mileage'] = df['mileage'].apply(lambda x: x * 0.621371 if 'km' in str(x) else x)\n",
    "\n",
    "# Check the mileage distribution\n",
    "mileage_distribution = df['mileage'].describe()\n",
    "\n",
    "# Display the mileage distribution\n",
    "print(\"Mileage Distribution:\")\n",
    "print(mileage_distribution)"
   ]
  },
  {
   "cell_type": "markdown",
   "id": "d20289b0",
   "metadata": {},
   "source": [
    "## b) You are a data analyst working for a car dealership company. Investigate whether there is a statistically significant difference in the distribution of the number of seats between cars with automatic and manual transmissions. Perform a hypothesis test to determine whether there is a significant difference in the number of seats for cars with automatic and manual transmissions.   Note: Use appropriate test to check if there is a significant difference in the means of the number of seats for the two groups. Determine the appropriate assumptions for the test and verify if they are satisfied. Calculate the test statistic and p-value to determine if there is a statistically significant difference between the two groups. Based on your analysis, provide insights to the management team about whether the number of seats is significantly different between cars with automatic and manual transmissions. This information will be useful in identifying which transmission type is more popular among customers and which features customers value the most. It will also help the company make informed decisions on inventory management and pricing strategies."
   ]
  },
  {
   "cell_type": "code",
   "execution_count": 61,
   "id": "cc8aafe6",
   "metadata": {},
   "outputs": [
    {
     "name": "stdout",
     "output_type": "stream",
     "text": [
      "Independent Samples t-test:\n",
      "Test Statistic: -6.482469584385468\n",
      "p-value: 9.564849249329582e-11\n",
      "Reject the null hypothesis. There is a statistically significant difference in the distribution of the number of seats between cars with automatic and manual transmissions.\n"
     ]
    }
   ],
   "source": [
    "# Extract data for cars with automatic and manual transmissions\n",
    "automatic_transmission = df[df['transmission'] == 'Automatic']['seats']\n",
    "manual_transmission = df[df['transmission'] == 'Manual']['seats']\n",
    "\n",
    "# Perform independent samples t-test\n",
    "t_statistic, p_value = ttest_ind(automatic_transmission, manual_transmission)\n",
    "\n",
    "# Display the results\n",
    "print(\"Independent Samples t-test:\")\n",
    "print(\"Test Statistic:\", t_statistic)\n",
    "print(\"p-value:\", p_value)\n",
    "\n",
    "# Interpret the results\n",
    "alpha = 0.05\n",
    "if p_value < alpha:\n",
    "    print(\"Reject the null hypothesis. There is a statistically significant difference in the distribution of the number of seats between cars with automatic and manual transmissions.\")\n",
    "else:\n",
    "    print(\"Fail to reject the null hypothesis. There is no statistically significant difference in the distribution of the number of seats between cars with automatic and manual transmissions.\")"
   ]
  },
  {
   "cell_type": "markdown",
   "id": "46220719",
   "metadata": {},
   "source": [
    "Test Statistic: The test statistic measures the difference between the means of the two groups (cars with automatic and manual transmissions) relative to the variability within the groups. In this case, the test statistic is -6.48.\n",
    "p-value: The p-value is a measure of the probability of observing the data or more extreme data under the assumption that the null hypothesis is true. A smaller p-value indicates stronger evidence against the null hypothesis. In this case, the p-value is approximately 9.56e-11, which is extremely small.\n",
    "\n",
    "Inference: With a p-value much smaller than the significance level (typically 0.05), we reject the null hypothesis. Therefore, we conclude that there is a statistically significant difference in the distribution of the number of seats between cars with automatic and manual transmissions.\n",
    "Implications: This finding suggests that the choice of transmission type (automatic or manual) influences the number of seats in cars. Customers may have different preferences regarding the number of seats depending on the transmission type. For example, cars with automatic transmissions may be preferred for convenience and comfort, while cars with manual transmissions may appeal to enthusiasts seeking performance or a different driving experience."
   ]
  }
 ],
 "metadata": {
  "kernelspec": {
   "display_name": "Python 3 (ipykernel)",
   "language": "python",
   "name": "python3"
  },
  "language_info": {
   "codemirror_mode": {
    "name": "ipython",
    "version": 3
   },
   "file_extension": ".py",
   "mimetype": "text/x-python",
   "name": "python",
   "nbconvert_exporter": "python",
   "pygments_lexer": "ipython3",
   "version": "3.10.9"
  }
 },
 "nbformat": 4,
 "nbformat_minor": 5
}
